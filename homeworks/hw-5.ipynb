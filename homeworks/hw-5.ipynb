{
 "cells": [
  {
   "metadata": {
    "ExecuteTime": {
     "end_time": "2025-05-24T19:46:05.436712Z",
     "start_time": "2025-05-24T19:46:05.434235Z"
    }
   },
   "cell_type": "code",
   "source": "%cd Workspace/Jupyter/go-it-dl-nlp",
   "id": "b723cb7cad30c4b4",
   "outputs": [
    {
     "name": "stdout",
     "output_type": "stream",
     "text": [
      "/home/vdubyna/Workspace/Jupyter/go-it-dl-nlp\n"
     ]
    }
   ],
   "execution_count": 1
  },
  {
   "cell_type": "code",
   "id": "initial_id",
   "metadata": {
    "collapsed": true,
    "ExecuteTime": {
     "end_time": "2025-05-24T19:46:16.455116Z",
     "start_time": "2025-05-24T19:46:05.698809Z"
    }
   },
   "source": [
    "!python -m spacy download en_core_web_sm\n",
    "!python -m spacy download it_core_news_sm"
   ],
   "outputs": [
    {
     "name": "stdout",
     "output_type": "stream",
     "text": [
      "/home/vdubyna/miniconda3/envs/ai/lib/python3.10/site-packages/requests/__init__.py:86: RequestsDependencyWarning: Unable to find acceptable character detection dependency (chardet or charset_normalizer).\r\n",
      "  warnings.warn(\r\n",
      "Collecting en-core-web-sm==3.6.0\r\n",
      "  Downloading https://github.com/explosion/spacy-models/releases/download/en_core_web_sm-3.6.0/en_core_web_sm-3.6.0-py3-none-any.whl (12.8 MB)\r\n",
      "\u001B[2K     \u001B[90m━━━━━━━━━━━━━━━━━━━━━━━━━━━━━━━━━━━━━━━━\u001B[0m \u001B[32m12.8/12.8 MB\u001B[0m \u001B[31m4.9 MB/s\u001B[0m eta \u001B[36m0:00:00\u001B[0m00:01\u001B[0m00:01\u001B[0m\r\n",
      "\u001B[?25hRequirement already satisfied: spacy<3.7.0,>=3.6.0 in /home/vdubyna/miniconda3/envs/ai/lib/python3.10/site-packages (from en-core-web-sm==3.6.0) (3.6.1)\r\n",
      "Requirement already satisfied: spacy-legacy<3.1.0,>=3.0.11 in /home/vdubyna/miniconda3/envs/ai/lib/python3.10/site-packages (from spacy<3.7.0,>=3.6.0->en-core-web-sm==3.6.0) (3.0.12)\r\n",
      "Requirement already satisfied: spacy-loggers<2.0.0,>=1.0.0 in /home/vdubyna/miniconda3/envs/ai/lib/python3.10/site-packages (from spacy<3.7.0,>=3.6.0->en-core-web-sm==3.6.0) (1.0.5)\r\n",
      "Requirement already satisfied: murmurhash<1.1.0,>=0.28.0 in /home/vdubyna/miniconda3/envs/ai/lib/python3.10/site-packages (from spacy<3.7.0,>=3.6.0->en-core-web-sm==3.6.0) (1.0.12)\r\n",
      "Requirement already satisfied: cymem<2.1.0,>=2.0.2 in /home/vdubyna/miniconda3/envs/ai/lib/python3.10/site-packages (from spacy<3.7.0,>=3.6.0->en-core-web-sm==3.6.0) (2.0.11)\r\n",
      "Requirement already satisfied: preshed<3.1.0,>=3.0.2 in /home/vdubyna/miniconda3/envs/ai/lib/python3.10/site-packages (from spacy<3.7.0,>=3.6.0->en-core-web-sm==3.6.0) (3.0.9)\r\n",
      "Requirement already satisfied: thinc<8.2.0,>=8.1.8 in /home/vdubyna/miniconda3/envs/ai/lib/python3.10/site-packages (from spacy<3.7.0,>=3.6.0->en-core-web-sm==3.6.0) (8.1.12)\r\n",
      "Requirement already satisfied: wasabi<1.2.0,>=0.9.1 in /home/vdubyna/miniconda3/envs/ai/lib/python3.10/site-packages (from spacy<3.7.0,>=3.6.0->en-core-web-sm==3.6.0) (1.1.3)\r\n",
      "Requirement already satisfied: srsly<3.0.0,>=2.4.3 in /home/vdubyna/miniconda3/envs/ai/lib/python3.10/site-packages (from spacy<3.7.0,>=3.6.0->en-core-web-sm==3.6.0) (2.5.1)\r\n",
      "Requirement already satisfied: catalogue<2.1.0,>=2.0.6 in /home/vdubyna/miniconda3/envs/ai/lib/python3.10/site-packages (from spacy<3.7.0,>=3.6.0->en-core-web-sm==3.6.0) (2.0.10)\r\n",
      "Requirement already satisfied: typer<0.10.0,>=0.3.0 in /home/vdubyna/miniconda3/envs/ai/lib/python3.10/site-packages (from spacy<3.7.0,>=3.6.0->en-core-web-sm==3.6.0) (0.9.4)\r\n",
      "Requirement already satisfied: pathy>=0.10.0 in /home/vdubyna/miniconda3/envs/ai/lib/python3.10/site-packages (from spacy<3.7.0,>=3.6.0->en-core-web-sm==3.6.0) (0.11.0)\r\n",
      "Requirement already satisfied: smart-open<7.0.0,>=5.2.1 in /home/vdubyna/miniconda3/envs/ai/lib/python3.10/site-packages (from spacy<3.7.0,>=3.6.0->en-core-web-sm==3.6.0) (5.2.1)\r\n",
      "Requirement already satisfied: tqdm<5.0.0,>=4.38.0 in /home/vdubyna/miniconda3/envs/ai/lib/python3.10/site-packages (from spacy<3.7.0,>=3.6.0->en-core-web-sm==3.6.0) (4.67.1)\r\n",
      "Requirement already satisfied: numpy>=1.15.0 in /home/vdubyna/miniconda3/envs/ai/lib/python3.10/site-packages (from spacy<3.7.0,>=3.6.0->en-core-web-sm==3.6.0) (1.26.4)\r\n",
      "Requirement already satisfied: requests<3.0.0,>=2.13.0 in /home/vdubyna/miniconda3/envs/ai/lib/python3.10/site-packages (from spacy<3.7.0,>=3.6.0->en-core-web-sm==3.6.0) (2.32.3)\r\n",
      "Requirement already satisfied: pydantic!=1.8,!=1.8.1,<3.0.0,>=1.7.4 in /home/vdubyna/miniconda3/envs/ai/lib/python3.10/site-packages (from spacy<3.7.0,>=3.6.0->en-core-web-sm==3.6.0) (2.11.4)\r\n",
      "Requirement already satisfied: jinja2 in /home/vdubyna/miniconda3/envs/ai/lib/python3.10/site-packages (from spacy<3.7.0,>=3.6.0->en-core-web-sm==3.6.0) (3.1.6)\r\n",
      "Requirement already satisfied: setuptools in /home/vdubyna/miniconda3/envs/ai/lib/python3.10/site-packages (from spacy<3.7.0,>=3.6.0->en-core-web-sm==3.6.0) (80.8.0)\r\n",
      "Requirement already satisfied: packaging>=20.0 in /home/vdubyna/miniconda3/envs/ai/lib/python3.10/site-packages (from spacy<3.7.0,>=3.6.0->en-core-web-sm==3.6.0) (24.2)\r\n",
      "Requirement already satisfied: langcodes<4.0.0,>=3.2.0 in /home/vdubyna/miniconda3/envs/ai/lib/python3.10/site-packages (from spacy<3.7.0,>=3.6.0->en-core-web-sm==3.6.0) (3.5.0)\r\n",
      "Requirement already satisfied: language-data>=1.2 in /home/vdubyna/miniconda3/envs/ai/lib/python3.10/site-packages (from langcodes<4.0.0,>=3.2.0->spacy<3.7.0,>=3.6.0->en-core-web-sm==3.6.0) (1.3.0)\r\n",
      "Requirement already satisfied: annotated-types>=0.6.0 in /home/vdubyna/miniconda3/envs/ai/lib/python3.10/site-packages (from pydantic!=1.8,!=1.8.1,<3.0.0,>=1.7.4->spacy<3.7.0,>=3.6.0->en-core-web-sm==3.6.0) (0.7.0)\r\n",
      "Requirement already satisfied: pydantic-core==2.33.2 in /home/vdubyna/miniconda3/envs/ai/lib/python3.10/site-packages (from pydantic!=1.8,!=1.8.1,<3.0.0,>=1.7.4->spacy<3.7.0,>=3.6.0->en-core-web-sm==3.6.0) (2.33.2)\r\n",
      "Requirement already satisfied: typing-extensions>=4.12.2 in /home/vdubyna/miniconda3/envs/ai/lib/python3.10/site-packages (from pydantic!=1.8,!=1.8.1,<3.0.0,>=1.7.4->spacy<3.7.0,>=3.6.0->en-core-web-sm==3.6.0) (4.13.2)\r\n",
      "Requirement already satisfied: typing-inspection>=0.4.0 in /home/vdubyna/miniconda3/envs/ai/lib/python3.10/site-packages (from pydantic!=1.8,!=1.8.1,<3.0.0,>=1.7.4->spacy<3.7.0,>=3.6.0->en-core-web-sm==3.6.0) (0.4.0)\r\n",
      "Requirement already satisfied: charset-normalizer<4,>=2 in /home/vdubyna/miniconda3/envs/ai/lib/python3.10/site-packages (from requests<3.0.0,>=2.13.0->spacy<3.7.0,>=3.6.0->en-core-web-sm==3.6.0) (3.3.2)\r\n",
      "Requirement already satisfied: idna<4,>=2.5 in /home/vdubyna/miniconda3/envs/ai/lib/python3.10/site-packages (from requests<3.0.0,>=2.13.0->spacy<3.7.0,>=3.6.0->en-core-web-sm==3.6.0) (3.10)\r\n",
      "Requirement already satisfied: urllib3<3,>=1.21.1 in /home/vdubyna/miniconda3/envs/ai/lib/python3.10/site-packages (from requests<3.0.0,>=2.13.0->spacy<3.7.0,>=3.6.0->en-core-web-sm==3.6.0) (2.3.0)\r\n",
      "Requirement already satisfied: certifi>=2017.4.17 in /home/vdubyna/miniconda3/envs/ai/lib/python3.10/site-packages (from requests<3.0.0,>=2.13.0->spacy<3.7.0,>=3.6.0->en-core-web-sm==3.6.0) (2025.4.26)\r\n",
      "Requirement already satisfied: blis<0.8.0,>=0.7.8 in /home/vdubyna/miniconda3/envs/ai/lib/python3.10/site-packages (from thinc<8.2.0,>=8.1.8->spacy<3.7.0,>=3.6.0->en-core-web-sm==3.6.0) (0.7.11)\r\n",
      "Requirement already satisfied: confection<1.0.0,>=0.0.1 in /home/vdubyna/miniconda3/envs/ai/lib/python3.10/site-packages (from thinc<8.2.0,>=8.1.8->spacy<3.7.0,>=3.6.0->en-core-web-sm==3.6.0) (0.1.5)\r\n",
      "Requirement already satisfied: click<9.0.0,>=7.1.1 in /home/vdubyna/miniconda3/envs/ai/lib/python3.10/site-packages (from typer<0.10.0,>=0.3.0->spacy<3.7.0,>=3.6.0->en-core-web-sm==3.6.0) (8.2.0)\r\n",
      "Requirement already satisfied: marisa-trie>=1.1.0 in /home/vdubyna/miniconda3/envs/ai/lib/python3.10/site-packages (from language-data>=1.2->langcodes<4.0.0,>=3.2.0->spacy<3.7.0,>=3.6.0->en-core-web-sm==3.6.0) (1.2.1)\r\n",
      "Requirement already satisfied: pathlib-abc==0.1.1 in /home/vdubyna/miniconda3/envs/ai/lib/python3.10/site-packages (from pathy>=0.10.0->spacy<3.7.0,>=3.6.0->en-core-web-sm==3.6.0) (0.1.1)\r\n",
      "Requirement already satisfied: MarkupSafe>=2.0 in /home/vdubyna/miniconda3/envs/ai/lib/python3.10/site-packages (from jinja2->spacy<3.7.0,>=3.6.0->en-core-web-sm==3.6.0) (3.0.2)\r\n",
      "\u001B[38;5;2m✔ Download and installation successful\u001B[0m\r\n",
      "You can now load the package via spacy.load('en_core_web_sm')\r\n",
      "/home/vdubyna/miniconda3/envs/ai/lib/python3.10/site-packages/requests/__init__.py:86: RequestsDependencyWarning: Unable to find acceptable character detection dependency (chardet or charset_normalizer).\r\n",
      "  warnings.warn(\r\n",
      "Collecting it-core-news-sm==3.6.0\r\n",
      "  Downloading https://github.com/explosion/spacy-models/releases/download/it_core_news_sm-3.6.0/it_core_news_sm-3.6.0-py3-none-any.whl (13.0 MB)\r\n",
      "\u001B[2K     \u001B[90m━━━━━━━━━━━━━━━━━━━━━━━━━━━━━━━━━━━━━━━━\u001B[0m \u001B[32m13.0/13.0 MB\u001B[0m \u001B[31m10.2 MB/s\u001B[0m eta \u001B[36m0:00:00\u001B[0ma \u001B[36m0:00:01\u001B[0m\r\n",
      "\u001B[?25hRequirement already satisfied: spacy<3.7.0,>=3.6.0 in /home/vdubyna/miniconda3/envs/ai/lib/python3.10/site-packages (from it-core-news-sm==3.6.0) (3.6.1)\r\n",
      "Requirement already satisfied: spacy-legacy<3.1.0,>=3.0.11 in /home/vdubyna/miniconda3/envs/ai/lib/python3.10/site-packages (from spacy<3.7.0,>=3.6.0->it-core-news-sm==3.6.0) (3.0.12)\r\n",
      "Requirement already satisfied: spacy-loggers<2.0.0,>=1.0.0 in /home/vdubyna/miniconda3/envs/ai/lib/python3.10/site-packages (from spacy<3.7.0,>=3.6.0->it-core-news-sm==3.6.0) (1.0.5)\r\n",
      "Requirement already satisfied: murmurhash<1.1.0,>=0.28.0 in /home/vdubyna/miniconda3/envs/ai/lib/python3.10/site-packages (from spacy<3.7.0,>=3.6.0->it-core-news-sm==3.6.0) (1.0.12)\r\n",
      "Requirement already satisfied: cymem<2.1.0,>=2.0.2 in /home/vdubyna/miniconda3/envs/ai/lib/python3.10/site-packages (from spacy<3.7.0,>=3.6.0->it-core-news-sm==3.6.0) (2.0.11)\r\n",
      "Requirement already satisfied: preshed<3.1.0,>=3.0.2 in /home/vdubyna/miniconda3/envs/ai/lib/python3.10/site-packages (from spacy<3.7.0,>=3.6.0->it-core-news-sm==3.6.0) (3.0.9)\r\n",
      "Requirement already satisfied: thinc<8.2.0,>=8.1.8 in /home/vdubyna/miniconda3/envs/ai/lib/python3.10/site-packages (from spacy<3.7.0,>=3.6.0->it-core-news-sm==3.6.0) (8.1.12)\r\n",
      "Requirement already satisfied: wasabi<1.2.0,>=0.9.1 in /home/vdubyna/miniconda3/envs/ai/lib/python3.10/site-packages (from spacy<3.7.0,>=3.6.0->it-core-news-sm==3.6.0) (1.1.3)\r\n",
      "Requirement already satisfied: srsly<3.0.0,>=2.4.3 in /home/vdubyna/miniconda3/envs/ai/lib/python3.10/site-packages (from spacy<3.7.0,>=3.6.0->it-core-news-sm==3.6.0) (2.5.1)\r\n",
      "Requirement already satisfied: catalogue<2.1.0,>=2.0.6 in /home/vdubyna/miniconda3/envs/ai/lib/python3.10/site-packages (from spacy<3.7.0,>=3.6.0->it-core-news-sm==3.6.0) (2.0.10)\r\n",
      "Requirement already satisfied: typer<0.10.0,>=0.3.0 in /home/vdubyna/miniconda3/envs/ai/lib/python3.10/site-packages (from spacy<3.7.0,>=3.6.0->it-core-news-sm==3.6.0) (0.9.4)\r\n",
      "Requirement already satisfied: pathy>=0.10.0 in /home/vdubyna/miniconda3/envs/ai/lib/python3.10/site-packages (from spacy<3.7.0,>=3.6.0->it-core-news-sm==3.6.0) (0.11.0)\r\n",
      "Requirement already satisfied: smart-open<7.0.0,>=5.2.1 in /home/vdubyna/miniconda3/envs/ai/lib/python3.10/site-packages (from spacy<3.7.0,>=3.6.0->it-core-news-sm==3.6.0) (5.2.1)\r\n",
      "Requirement already satisfied: tqdm<5.0.0,>=4.38.0 in /home/vdubyna/miniconda3/envs/ai/lib/python3.10/site-packages (from spacy<3.7.0,>=3.6.0->it-core-news-sm==3.6.0) (4.67.1)\r\n",
      "Requirement already satisfied: numpy>=1.15.0 in /home/vdubyna/miniconda3/envs/ai/lib/python3.10/site-packages (from spacy<3.7.0,>=3.6.0->it-core-news-sm==3.6.0) (1.26.4)\r\n",
      "Requirement already satisfied: requests<3.0.0,>=2.13.0 in /home/vdubyna/miniconda3/envs/ai/lib/python3.10/site-packages (from spacy<3.7.0,>=3.6.0->it-core-news-sm==3.6.0) (2.32.3)\r\n",
      "Requirement already satisfied: pydantic!=1.8,!=1.8.1,<3.0.0,>=1.7.4 in /home/vdubyna/miniconda3/envs/ai/lib/python3.10/site-packages (from spacy<3.7.0,>=3.6.0->it-core-news-sm==3.6.0) (2.11.4)\r\n",
      "Requirement already satisfied: jinja2 in /home/vdubyna/miniconda3/envs/ai/lib/python3.10/site-packages (from spacy<3.7.0,>=3.6.0->it-core-news-sm==3.6.0) (3.1.6)\r\n",
      "Requirement already satisfied: setuptools in /home/vdubyna/miniconda3/envs/ai/lib/python3.10/site-packages (from spacy<3.7.0,>=3.6.0->it-core-news-sm==3.6.0) (80.8.0)\r\n",
      "Requirement already satisfied: packaging>=20.0 in /home/vdubyna/miniconda3/envs/ai/lib/python3.10/site-packages (from spacy<3.7.0,>=3.6.0->it-core-news-sm==3.6.0) (24.2)\r\n",
      "Requirement already satisfied: langcodes<4.0.0,>=3.2.0 in /home/vdubyna/miniconda3/envs/ai/lib/python3.10/site-packages (from spacy<3.7.0,>=3.6.0->it-core-news-sm==3.6.0) (3.5.0)\r\n",
      "Requirement already satisfied: language-data>=1.2 in /home/vdubyna/miniconda3/envs/ai/lib/python3.10/site-packages (from langcodes<4.0.0,>=3.2.0->spacy<3.7.0,>=3.6.0->it-core-news-sm==3.6.0) (1.3.0)\r\n",
      "Requirement already satisfied: annotated-types>=0.6.0 in /home/vdubyna/miniconda3/envs/ai/lib/python3.10/site-packages (from pydantic!=1.8,!=1.8.1,<3.0.0,>=1.7.4->spacy<3.7.0,>=3.6.0->it-core-news-sm==3.6.0) (0.7.0)\r\n",
      "Requirement already satisfied: pydantic-core==2.33.2 in /home/vdubyna/miniconda3/envs/ai/lib/python3.10/site-packages (from pydantic!=1.8,!=1.8.1,<3.0.0,>=1.7.4->spacy<3.7.0,>=3.6.0->it-core-news-sm==3.6.0) (2.33.2)\r\n",
      "Requirement already satisfied: typing-extensions>=4.12.2 in /home/vdubyna/miniconda3/envs/ai/lib/python3.10/site-packages (from pydantic!=1.8,!=1.8.1,<3.0.0,>=1.7.4->spacy<3.7.0,>=3.6.0->it-core-news-sm==3.6.0) (4.13.2)\r\n",
      "Requirement already satisfied: typing-inspection>=0.4.0 in /home/vdubyna/miniconda3/envs/ai/lib/python3.10/site-packages (from pydantic!=1.8,!=1.8.1,<3.0.0,>=1.7.4->spacy<3.7.0,>=3.6.0->it-core-news-sm==3.6.0) (0.4.0)\r\n",
      "Requirement already satisfied: charset-normalizer<4,>=2 in /home/vdubyna/miniconda3/envs/ai/lib/python3.10/site-packages (from requests<3.0.0,>=2.13.0->spacy<3.7.0,>=3.6.0->it-core-news-sm==3.6.0) (3.3.2)\r\n",
      "Requirement already satisfied: idna<4,>=2.5 in /home/vdubyna/miniconda3/envs/ai/lib/python3.10/site-packages (from requests<3.0.0,>=2.13.0->spacy<3.7.0,>=3.6.0->it-core-news-sm==3.6.0) (3.10)\r\n",
      "Requirement already satisfied: urllib3<3,>=1.21.1 in /home/vdubyna/miniconda3/envs/ai/lib/python3.10/site-packages (from requests<3.0.0,>=2.13.0->spacy<3.7.0,>=3.6.0->it-core-news-sm==3.6.0) (2.3.0)\r\n",
      "Requirement already satisfied: certifi>=2017.4.17 in /home/vdubyna/miniconda3/envs/ai/lib/python3.10/site-packages (from requests<3.0.0,>=2.13.0->spacy<3.7.0,>=3.6.0->it-core-news-sm==3.6.0) (2025.4.26)\r\n",
      "Requirement already satisfied: blis<0.8.0,>=0.7.8 in /home/vdubyna/miniconda3/envs/ai/lib/python3.10/site-packages (from thinc<8.2.0,>=8.1.8->spacy<3.7.0,>=3.6.0->it-core-news-sm==3.6.0) (0.7.11)\r\n",
      "Requirement already satisfied: confection<1.0.0,>=0.0.1 in /home/vdubyna/miniconda3/envs/ai/lib/python3.10/site-packages (from thinc<8.2.0,>=8.1.8->spacy<3.7.0,>=3.6.0->it-core-news-sm==3.6.0) (0.1.5)\r\n",
      "Requirement already satisfied: click<9.0.0,>=7.1.1 in /home/vdubyna/miniconda3/envs/ai/lib/python3.10/site-packages (from typer<0.10.0,>=0.3.0->spacy<3.7.0,>=3.6.0->it-core-news-sm==3.6.0) (8.2.0)\r\n",
      "Requirement already satisfied: marisa-trie>=1.1.0 in /home/vdubyna/miniconda3/envs/ai/lib/python3.10/site-packages (from language-data>=1.2->langcodes<4.0.0,>=3.2.0->spacy<3.7.0,>=3.6.0->it-core-news-sm==3.6.0) (1.2.1)\r\n",
      "Requirement already satisfied: pathlib-abc==0.1.1 in /home/vdubyna/miniconda3/envs/ai/lib/python3.10/site-packages (from pathy>=0.10.0->spacy<3.7.0,>=3.6.0->it-core-news-sm==3.6.0) (0.1.1)\r\n",
      "Requirement already satisfied: MarkupSafe>=2.0 in /home/vdubyna/miniconda3/envs/ai/lib/python3.10/site-packages (from jinja2->spacy<3.7.0,>=3.6.0->it-core-news-sm==3.6.0) (3.0.2)\r\n",
      "\u001B[38;5;2m✔ Download and installation successful\u001B[0m\r\n",
      "You can now load the package via spacy.load('it_core_news_sm')\r\n"
     ]
    }
   ],
   "execution_count": 2
  },
  {
   "metadata": {
    "ExecuteTime": {
     "end_time": "2025-05-24T19:46:18.021426Z",
     "start_time": "2025-05-24T19:46:16.661454Z"
    }
   },
   "cell_type": "code",
   "source": [
    "import spacy\n",
    "\n",
    "spacy.load('it_core_news_sm')\n",
    "spacy.load('en_core_web_sm')\n"
   ],
   "id": "a41fe9df698f338b",
   "outputs": [
    {
     "name": "stderr",
     "output_type": "stream",
     "text": [
      "/home/vdubyna/miniconda3/envs/ai/lib/python3.10/site-packages/requests/__init__.py:86: RequestsDependencyWarning: Unable to find acceptable character detection dependency (chardet or charset_normalizer).\n",
      "  warnings.warn(\n"
     ]
    },
    {
     "data": {
      "text/plain": [
       "<spacy.lang.en.English at 0x7ca876d5e5f0>"
      ]
     },
     "execution_count": 3,
     "metadata": {},
     "output_type": "execute_result"
    }
   ],
   "execution_count": 3
  },
  {
   "metadata": {
    "ExecuteTime": {
     "end_time": "2025-05-24T19:46:19.622197Z",
     "start_time": "2025-05-24T19:46:18.287890Z"
    }
   },
   "cell_type": "code",
   "source": [
    "import spacy\n",
    "import datasets\n",
    "import en_core_web_sm\n",
    "import it_core_news_sm\n",
    "\n",
    "# import torchtext\n",
    "\n",
    "import torch\n",
    "import torch.nn as nn\n",
    "import torch.optim as optim\n",
    "\n",
    "import evaluate\n",
    "\n",
    "import matplotlib.pyplot as plt\n",
    "import matplotlib.ticker as ticker\n",
    "\n",
    "import os\n",
    "import random\n",
    "from tqdm.auto import tqdm\n",
    "from dataclasses import dataclass\n",
    "\n",
    "import pandas as pd\n",
    "import numpy as np\n",
    "\n",
    "import warnings\n",
    "warnings.filterwarnings(\"ignore\")"
   ],
   "id": "250c856e71fe40d9",
   "outputs": [],
   "execution_count": 4
  },
  {
   "metadata": {
    "ExecuteTime": {
     "end_time": "2025-05-24T19:46:24.592534Z",
     "start_time": "2025-05-24T19:46:19.871757Z"
    }
   },
   "cell_type": "code",
   "source": "dataset = datasets.load_dataset(\"Helsinki-NLP/europarl\", name=\"en-it\")",
   "id": "839b1d90355c6cec",
   "outputs": [],
   "execution_count": 5
  },
  {
   "metadata": {
    "ExecuteTime": {
     "end_time": "2025-05-24T19:46:24.624943Z",
     "start_time": "2025-05-24T19:46:24.622326Z"
    }
   },
   "cell_type": "code",
   "source": [
    "seed = 42\n",
    "\n",
    "random.seed(seed)\n",
    "np.random.seed(seed)\n",
    "torch.manual_seed(seed)\n",
    "torch.cuda.manual_seed(seed)\n",
    "torch.backends.cudnn.deterministic = True"
   ],
   "id": "d44b589dd64f3fef",
   "outputs": [],
   "execution_count": 6
  },
  {
   "metadata": {
    "ExecuteTime": {
     "end_time": "2025-05-24T19:46:24.782064Z",
     "start_time": "2025-05-24T19:46:24.780106Z"
    }
   },
   "cell_type": "code",
   "source": "dataset",
   "id": "c24f861c43fc893",
   "outputs": [
    {
     "data": {
      "text/plain": [
       "DatasetDict({\n",
       "    train: Dataset({\n",
       "        features: ['translation'],\n",
       "        num_rows: 1946253\n",
       "    })\n",
       "})"
      ]
     },
     "execution_count": 7,
     "metadata": {},
     "output_type": "execute_result"
    }
   ],
   "execution_count": 7
  },
  {
   "metadata": {
    "ExecuteTime": {
     "end_time": "2025-05-24T19:46:24.840305Z",
     "start_time": "2025-05-24T19:46:24.825580Z"
    }
   },
   "cell_type": "code",
   "source": [
    "# 1. Взяти 2% випадково\n",
    "small_data = dataset[\"train\"].train_test_split(test_size=0.98, seed=42)[\"train\"]\n",
    "\n",
    "# 2. Розбити на train / validation / test\n",
    "split = small_data.train_test_split(test_size=0.1, seed=42)\n",
    "train_data = split[\"train\"]\n",
    "test_data = split[\"test\"]"
   ],
   "id": "b0a088c7677e0a1a",
   "outputs": [],
   "execution_count": 8
  },
  {
   "metadata": {
    "ExecuteTime": {
     "end_time": "2025-05-24T19:46:24.957140Z",
     "start_time": "2025-05-24T19:46:24.955389Z"
    }
   },
   "cell_type": "code",
   "source": "train_data.shape",
   "id": "552290821a68ddd",
   "outputs": [
    {
     "data": {
      "text/plain": [
       "(35032, 1)"
      ]
     },
     "execution_count": 9,
     "metadata": {},
     "output_type": "execute_result"
    }
   ],
   "execution_count": 9
  },
  {
   "metadata": {
    "ExecuteTime": {
     "end_time": "2025-05-24T19:46:25.410293Z",
     "start_time": "2025-05-24T19:46:25.004559Z"
    }
   },
   "cell_type": "code",
   "source": [
    "en_nlp = en_core_web_sm.load()\n",
    "it_nlp = it_core_news_sm.load()"
   ],
   "id": "97873e1ec441b9bc",
   "outputs": [],
   "execution_count": 10
  },
  {
   "metadata": {
    "ExecuteTime": {
     "end_time": "2025-05-24T19:46:52.809804Z",
     "start_time": "2025-05-24T19:46:25.468151Z"
    }
   },
   "cell_type": "code",
   "source": [
    "# Збір довжин токенізованих речень (приклад для перших 10_000 рядків)\n",
    "sample_size = 10_000\n",
    "lengths = [\n",
    "    len(en_nlp(example[\"translation\"][\"en\"]))\n",
    "    for example in train_data.select(range(sample_size))\n",
    "]\n",
    "\n",
    "# Обчислення 95-го перцентиля\n",
    "percentile_95 = int(np.percentile(lengths, 95))\n",
    "print(f\"95-й перцентиль довжини (в токенах): {percentile_95}\")"
   ],
   "id": "bb38b2ea49a40723",
   "outputs": [
    {
     "name": "stdout",
     "output_type": "stream",
     "text": [
      "95-й перцентиль довжини (в токенах): 60\n"
     ]
    }
   ],
   "execution_count": 11
  },
  {
   "metadata": {
    "ExecuteTime": {
     "end_time": "2025-05-24T19:46:53.051357Z",
     "start_time": "2025-05-24T19:46:53.049231Z"
    }
   },
   "cell_type": "code",
   "source": [
    "def tokenize_example(\n",
    "    example,\n",
    "    en_nlp,\n",
    "    it_nlp,\n",
    "    max_length,\n",
    "    lower,\n",
    "    sos_token,\n",
    "    eos_token\n",
    "):\n",
    "    '''\n",
    "    Tokenizes a textual English-Italian input pair.\n",
    "    Args:\n",
    "        example: (dict) a dictionary with one phrase in English and Italian; keys 'en', 'it'\n",
    "        en_nlp: (spacy.lang) a spacy language model for English\n",
    "        it_nlp: (spacy.lang) a spacy language model for Italian\n",
    "        max_length: (int) max input sentence length, symbols\n",
    "        lower: (bool) if to lowercase input\n",
    "        sos_token: (str) a start_of_sequence token\n",
    "        eos_token: (str) an end_of_sequence token\n",
    "\n",
    "    Return:\n",
    "        (dict) pre-processed and tokenized input sequence\n",
    "    '''\n",
    "    en_tokens = [token.text for token in en_nlp.tokenizer(example[\"translation\"][\"en\"])][:max_length]\n",
    "    it_tokens = [token.text for token in it_nlp.tokenizer(example[\"translation\"][\"it\"])][:max_length]\n",
    "    if lower:\n",
    "        en_tokens = [token.lower() for token in en_tokens]\n",
    "        it_tokens = [token.lower() for token in it_tokens]\n",
    "    en_tokens = [sos_token] + en_tokens + [eos_token]\n",
    "    it_tokens = [sos_token] + it_tokens + [eos_token]\n",
    "    return {\"en_tokens\": en_tokens, \"it_tokens\": it_tokens}"
   ],
   "id": "736ebabc886edb71",
   "outputs": [],
   "execution_count": 12
  },
  {
   "metadata": {
    "ExecuteTime": {
     "end_time": "2025-05-24T19:46:54.133014Z",
     "start_time": "2025-05-24T19:46:53.257701Z"
    }
   },
   "cell_type": "code",
   "source": [
    "# Pre-process input data\n",
    "\n",
    "# max_length = 1_000\n",
    "# Більшість речень мають по 60 токенів тому я виставив максимум 80 щоб ігнорувати потенційні викиди\n",
    "max_length = 80\n",
    "lower = True\n",
    "sos_token = \"<sos>\"\n",
    "eos_token = \"<eos>\"\n",
    "\n",
    "fn_kwargs = {\n",
    "    \"en_nlp\": en_nlp,\n",
    "    \"it_nlp\": it_nlp,\n",
    "    \"max_length\": max_length,\n",
    "    \"lower\": lower,\n",
    "    \"sos_token\": sos_token,\n",
    "    \"eos_token\": eos_token,\n",
    "}\n",
    "\n",
    "train_data = train_data.map(tokenize_example, fn_kwargs=fn_kwargs)\n",
    "# valid_data = valid_data.map(tokenize_example, fn_kwargs=fn_kwargs)\n",
    "test_data = test_data.map(tokenize_example, fn_kwargs=fn_kwargs)"
   ],
   "id": "8e1eb9c5c1c2c4aa",
   "outputs": [
    {
     "data": {
      "text/plain": [
       "Map:   0%|          | 0/3893 [00:00<?, ? examples/s]"
      ],
      "application/vnd.jupyter.widget-view+json": {
       "version_major": 2,
       "version_minor": 0,
       "model_id": "ec518ee2585e4bc3af1a69353632e4ae"
      }
     },
     "metadata": {},
     "output_type": "display_data"
    }
   ],
   "execution_count": 13
  },
  {
   "metadata": {
    "ExecuteTime": {
     "end_time": "2025-05-24T19:46:54.329879Z",
     "start_time": "2025-05-24T19:46:54.327367Z"
    }
   },
   "cell_type": "code",
   "source": "train_data[0]",
   "id": "706c84b5b138287d",
   "outputs": [
    {
     "data": {
      "text/plain": [
       "{'translation': {'en': 'However, there are some aspects in the report which need clarifying.',\n",
       "  'it': 'Vi sono tuttavia alcuni aspetti nella relazione che debbono essere chiariti.'},\n",
       " 'en_tokens': ['<sos>',\n",
       "  'however',\n",
       "  ',',\n",
       "  'there',\n",
       "  'are',\n",
       "  'some',\n",
       "  'aspects',\n",
       "  'in',\n",
       "  'the',\n",
       "  'report',\n",
       "  'which',\n",
       "  'need',\n",
       "  'clarifying',\n",
       "  '.',\n",
       "  '<eos>'],\n",
       " 'it_tokens': ['<sos>',\n",
       "  'vi',\n",
       "  'sono',\n",
       "  'tuttavia',\n",
       "  'alcuni',\n",
       "  'aspetti',\n",
       "  'nella',\n",
       "  'relazione',\n",
       "  'che',\n",
       "  'debbono',\n",
       "  'essere',\n",
       "  'chiariti',\n",
       "  '.',\n",
       "  '<eos>']}"
      ]
     },
     "execution_count": 14,
     "metadata": {},
     "output_type": "execute_result"
    }
   ],
   "execution_count": 14
  },
  {
   "metadata": {
    "ExecuteTime": {
     "end_time": "2025-05-24T19:46:54.387727Z",
     "start_time": "2025-05-24T19:46:54.384446Z"
    }
   },
   "cell_type": "code",
   "source": [
    "# import torchtext - Не працює на Apple M1\n",
    "# Замінюєм функціонал\n",
    "from collections import Counter, defaultdict\n",
    "from typing import List, Dict\n",
    "\n",
    "from collections import Counter\n",
    "from typing import List, Dict\n",
    "\n",
    "class Vocab:\n",
    "    def __init__(self, counter: Counter, specials: List[str] = None, min_freq: int = 1):\n",
    "        if specials is None:\n",
    "            specials = []\n",
    "\n",
    "        self.token_to_id: Dict[str, int] = {}\n",
    "        self.id_to_token: Dict[int, str] = {}\n",
    "        self.default_index: int = 0  # Default fallback index\n",
    "\n",
    "        # Додаємо special tokens\n",
    "        idx = 0\n",
    "        for token in specials:\n",
    "            self.token_to_id[token] = idx\n",
    "            self.id_to_token[idx] = token\n",
    "            idx += 1\n",
    "\n",
    "        # Додаємо звичайні токени\n",
    "        for token, freq in counter.items():\n",
    "            if freq >= min_freq and token not in self.token_to_id:\n",
    "                self.token_to_id[token] = idx\n",
    "                self.id_to_token[idx] = token\n",
    "                idx += 1\n",
    "\n",
    "    def __getitem__(self, token: str) -> int:\n",
    "        return self.token_to_id.get(token, self.default_index)\n",
    "\n",
    "    def lookup_token(self, index: int) -> str:\n",
    "        return self.id_to_token.get(index, \"<unk>\")\n",
    "\n",
    "    def lookup_tokens(self, indices: List[int]) -> List[str]:\n",
    "        return [self.lookup_token(index) for index in indices]\n",
    "\n",
    "    def __len__(self) -> int:\n",
    "        return len(self.token_to_id)\n",
    "\n",
    "    def get_stoi(self) -> Dict[str, int]:\n",
    "        return self.token_to_id\n",
    "\n",
    "    def get_itos(self) -> Dict[int, str]:\n",
    "        return self.id_to_token\n",
    "\n",
    "    def set_default_index(self, index: int):\n",
    "        self.default_index = index\n",
    "\n",
    "    def lookup_indices(self, tokens: List[str]) -> List[int]:\n",
    "        return [self[token] for token in tokens]\n"
   ],
   "id": "c1d794147af73f32",
   "outputs": [],
   "execution_count": 15
  },
  {
   "metadata": {
    "ExecuteTime": {
     "end_time": "2025-05-24T19:46:55.405720Z",
     "start_time": "2025-05-24T19:46:54.419346Z"
    }
   },
   "cell_type": "code",
   "source": [
    "from collections import Counter\n",
    "\n",
    "special_tokens = [\"<unk>\", \"<pad>\", \"<sos>\", \"<eos>\"]\n",
    "min_freq = 2\n",
    "unk_token = \"<unk>\" # unknown token\n",
    "pad_token = \"<pad>\" # padding token\n",
    "\n",
    "# Створення лічильника токенів\n",
    "en_counter = Counter(token for tokens in train_data[\"en_tokens\"] for token in tokens)\n",
    "it_counter = Counter(token for tokens in train_data[\"it_tokens\"] for token in tokens)\n",
    "\n",
    "# Побудова словників\n",
    "en_vocab = Vocab(en_counter, specials=special_tokens, min_freq=min_freq)\n",
    "it_vocab = Vocab(it_counter, specials=special_tokens, min_freq=min_freq)            # розмір словника"
   ],
   "id": "57c464498be8c518",
   "outputs": [],
   "execution_count": 16
  },
  {
   "metadata": {
    "ExecuteTime": {
     "end_time": "2025-05-24T19:46:55.603448Z",
     "start_time": "2025-05-24T19:46:55.601555Z"
    }
   },
   "cell_type": "code",
   "source": [
    "assert en_vocab[unk_token] == it_vocab[unk_token]\n",
    "assert en_vocab[pad_token] == it_vocab[pad_token]\n",
    "\n",
    "unk_index = en_vocab[unk_token]\n",
    "pad_index = en_vocab[pad_token]\n",
    "\n",
    "print(unk_index)\n",
    "print(pad_index)\n",
    "print(en_vocab['the'])"
   ],
   "id": "fd2473755a599550",
   "outputs": [
    {
     "name": "stdout",
     "output_type": "stream",
     "text": [
      "0\n",
      "1\n",
      "11\n"
     ]
    }
   ],
   "execution_count": 17
  },
  {
   "metadata": {
    "ExecuteTime": {
     "end_time": "2025-05-24T19:46:55.663165Z",
     "start_time": "2025-05-24T19:46:55.661704Z"
    }
   },
   "cell_type": "code",
   "source": [
    "en_vocab.set_default_index(unk_index)\n",
    "it_vocab.set_default_index(unk_index)"
   ],
   "id": "deed9c68762f1030",
   "outputs": [],
   "execution_count": 18
  },
  {
   "metadata": {
    "ExecuteTime": {
     "end_time": "2025-05-24T19:46:55.889507Z",
     "start_time": "2025-05-24T19:46:55.888049Z"
    }
   },
   "cell_type": "code",
   "source": [
    "def numericalize_example(example, en_vocab, it_vocab):\n",
    "    '''\n",
    "    Creates a mapping from string tokens to the vocabulary indexes.\n",
    "    '''\n",
    "    en_ids = en_vocab.lookup_indices(example[\"en_tokens\"])\n",
    "    it_ids = it_vocab.lookup_indices(example[\"it_tokens\"])\n",
    "    return {\"en_ids\": en_ids, \"it_ids\": it_ids}"
   ],
   "id": "b62c91e09b13e3e3",
   "outputs": [],
   "execution_count": 19
  },
  {
   "metadata": {
    "ExecuteTime": {
     "end_time": "2025-05-24T19:46:56.104004Z",
     "start_time": "2025-05-24T19:46:56.101307Z"
    }
   },
   "cell_type": "code",
   "source": [
    "example = en_vocab.lookup_indices(random.choice(train_data)[\"en_tokens\"])\n",
    "example"
   ],
   "id": "cac0a08274dc3718",
   "outputs": [
    {
     "data": {
      "text/plain": [
       "[2,\n",
       " 11,\n",
       " 286,\n",
       " 3015,\n",
       " 52,\n",
       " 30,\n",
       " 43,\n",
       " 1501,\n",
       " 13,\n",
       " 177,\n",
       " 5,\n",
       " 43,\n",
       " 305,\n",
       " 5,\n",
       " 61,\n",
       " 21,\n",
       " 3899,\n",
       " 1089,\n",
       " 5,\n",
       " 304,\n",
       " 10,\n",
       " 992,\n",
       " 24,\n",
       " 2871,\n",
       " 978,\n",
       " 16,\n",
       " 3]"
      ]
     },
     "execution_count": 20,
     "metadata": {},
     "output_type": "execute_result"
    }
   ],
   "execution_count": 20
  },
  {
   "metadata": {
    "ExecuteTime": {
     "end_time": "2025-05-24T19:46:58.689118Z",
     "start_time": "2025-05-24T19:46:56.170560Z"
    }
   },
   "cell_type": "code",
   "source": [
    "fn_kwargs = {\n",
    "    \"en_vocab\": en_vocab,\n",
    "    \"it_vocab\": it_vocab\n",
    "}\n",
    "\n",
    "train_data = train_data.map(numericalize_example, fn_kwargs=fn_kwargs)\n",
    "# valid_data = valid_data.map(numericalize_example, fn_kwargs=fn_kwargs)\n",
    "test_data = test_data.map(numericalize_example, fn_kwargs=fn_kwargs)"
   ],
   "id": "f073ef74d052cb7b",
   "outputs": [
    {
     "data": {
      "text/plain": [
       "Map:   0%|          | 0/35032 [00:00<?, ? examples/s]"
      ],
      "application/vnd.jupyter.widget-view+json": {
       "version_major": 2,
       "version_minor": 0,
       "model_id": "0910d1e0928f494284ba389d26937122"
      }
     },
     "metadata": {},
     "output_type": "display_data"
    },
    {
     "data": {
      "text/plain": [
       "Map:   0%|          | 0/3893 [00:00<?, ? examples/s]"
      ],
      "application/vnd.jupyter.widget-view+json": {
       "version_major": 2,
       "version_minor": 0,
       "model_id": "79cb24e859fb42fd92c8d2c6fe2d3a04"
      }
     },
     "metadata": {},
     "output_type": "display_data"
    }
   ],
   "execution_count": 21
  },
  {
   "metadata": {
    "ExecuteTime": {
     "end_time": "2025-05-24T19:46:58.746615Z",
     "start_time": "2025-05-24T19:46:58.744026Z"
    }
   },
   "cell_type": "code",
   "source": "train_data[0]",
   "id": "4c192324c3eeb804",
   "outputs": [
    {
     "data": {
      "text/plain": [
       "{'translation': {'en': 'However, there are some aspects in the report which need clarifying.',\n",
       "  'it': 'Vi sono tuttavia alcuni aspetti nella relazione che debbono essere chiariti.'},\n",
       " 'en_tokens': ['<sos>',\n",
       "  'however',\n",
       "  ',',\n",
       "  'there',\n",
       "  'are',\n",
       "  'some',\n",
       "  'aspects',\n",
       "  'in',\n",
       "  'the',\n",
       "  'report',\n",
       "  'which',\n",
       "  'need',\n",
       "  'clarifying',\n",
       "  '.',\n",
       "  '<eos>'],\n",
       " 'it_tokens': ['<sos>',\n",
       "  'vi',\n",
       "  'sono',\n",
       "  'tuttavia',\n",
       "  'alcuni',\n",
       "  'aspetti',\n",
       "  'nella',\n",
       "  'relazione',\n",
       "  'che',\n",
       "  'debbono',\n",
       "  'essere',\n",
       "  'chiariti',\n",
       "  '.',\n",
       "  '<eos>'],\n",
       " 'en_ids': [2, 4, 5, 6, 7, 8, 9, 10, 11, 12, 13, 14, 15, 16, 3],\n",
       " 'it_ids': [2, 4, 5, 6, 7, 8, 9, 10, 11, 12, 13, 14, 15, 3]}"
      ]
     },
     "execution_count": 22,
     "metadata": {},
     "output_type": "execute_result"
    }
   ],
   "execution_count": 22
  },
  {
   "metadata": {
    "ExecuteTime": {
     "end_time": "2025-05-24T19:46:58.807397Z",
     "start_time": "2025-05-24T19:46:58.805092Z"
    }
   },
   "cell_type": "code",
   "source": [
    "# Data to torch Dataset format\n",
    "\n",
    "data_type = \"torch\"\n",
    "format_columns = [\"en_ids\", \"it_ids\"]\n",
    "\n",
    "train_data = train_data.with_format(\n",
    "    type=data_type,\n",
    "    columns=format_columns,\n",
    "    output_all_columns=True\n",
    ")\n",
    "\n",
    "test_data = test_data.with_format(\n",
    "    type=data_type,\n",
    "    columns=format_columns,\n",
    "    output_all_columns=True,\n",
    ")"
   ],
   "id": "76c33bc32c9139a0",
   "outputs": [],
   "execution_count": 23
  },
  {
   "metadata": {
    "ExecuteTime": {
     "end_time": "2025-05-24T19:46:58.844450Z",
     "start_time": "2025-05-24T19:46:58.842716Z"
    }
   },
   "cell_type": "code",
   "source": "train_data",
   "id": "ba14189778b6438a",
   "outputs": [
    {
     "data": {
      "text/plain": [
       "Dataset({\n",
       "    features: ['translation', 'en_tokens', 'it_tokens', 'en_ids', 'it_ids'],\n",
       "    num_rows: 35032\n",
       "})"
      ]
     },
     "execution_count": 24,
     "metadata": {},
     "output_type": "execute_result"
    }
   ],
   "execution_count": 24
  },
  {
   "metadata": {
    "ExecuteTime": {
     "end_time": "2025-05-24T19:46:58.910917Z",
     "start_time": "2025-05-24T19:46:58.907782Z"
    }
   },
   "cell_type": "code",
   "source": "train_data[0]",
   "id": "6ae62a35ff722581",
   "outputs": [
    {
     "data": {
      "text/plain": [
       "{'en_ids': tensor([ 2,  4,  5,  6,  7,  8,  9, 10, 11, 12, 13, 14, 15, 16,  3]),\n",
       " 'it_ids': tensor([ 2,  4,  5,  6,  7,  8,  9, 10, 11, 12, 13, 14, 15,  3]),\n",
       " 'translation': {'en': 'However, there are some aspects in the report which need clarifying.',\n",
       "  'it': 'Vi sono tuttavia alcuni aspetti nella relazione che debbono essere chiariti.'},\n",
       " 'en_tokens': ['<sos>',\n",
       "  'however',\n",
       "  ',',\n",
       "  'there',\n",
       "  'are',\n",
       "  'some',\n",
       "  'aspects',\n",
       "  'in',\n",
       "  'the',\n",
       "  'report',\n",
       "  'which',\n",
       "  'need',\n",
       "  'clarifying',\n",
       "  '.',\n",
       "  '<eos>'],\n",
       " 'it_tokens': ['<sos>',\n",
       "  'vi',\n",
       "  'sono',\n",
       "  'tuttavia',\n",
       "  'alcuni',\n",
       "  'aspetti',\n",
       "  'nella',\n",
       "  'relazione',\n",
       "  'che',\n",
       "  'debbono',\n",
       "  'essere',\n",
       "  'chiariti',\n",
       "  '.',\n",
       "  '<eos>']}"
      ]
     },
     "execution_count": 25,
     "metadata": {},
     "output_type": "execute_result"
    }
   ],
   "execution_count": 25
  },
  {
   "metadata": {
    "ExecuteTime": {
     "end_time": "2025-05-24T19:46:59.134325Z",
     "start_time": "2025-05-24T19:46:59.132509Z"
    }
   },
   "cell_type": "code",
   "source": [
    "def get_collate_fn(pad_index):\n",
    "    '''\n",
    "    Adding padding as a part of a collate_fn.\n",
    "    '''\n",
    "\n",
    "    def collate_fn(batch):\n",
    "        batch_en_ids = [example[\"en_ids\"] for example in batch]\n",
    "        batch_it_ids = [example[\"it_ids\"] for example in batch]\n",
    "        batch_en_ids = nn.utils.rnn.pad_sequence(batch_en_ids, padding_value=pad_index)\n",
    "        batch_it_ids = nn.utils.rnn.pad_sequence(batch_it_ids, padding_value=pad_index)\n",
    "        batch = {\n",
    "            \"en_ids\": batch_en_ids,\n",
    "            \"it_ids\": batch_it_ids,\n",
    "        }\n",
    "        return batch\n",
    "\n",
    "    return collate_fn"
   ],
   "id": "ede26a3aba9be0c",
   "outputs": [],
   "execution_count": 26
  },
  {
   "metadata": {
    "ExecuteTime": {
     "end_time": "2025-05-24T19:46:59.193867Z",
     "start_time": "2025-05-24T19:46:59.192094Z"
    }
   },
   "cell_type": "code",
   "source": [
    "def get_data_loader(dataset, batch_size, pad_index, shuffle=False):\n",
    "\n",
    "    collate_fn = get_collate_fn(pad_index)\n",
    "\n",
    "    data_loader = torch.utils.data.DataLoader(\n",
    "        dataset=dataset,\n",
    "        batch_size=batch_size,\n",
    "        collate_fn=collate_fn,\n",
    "        shuffle=shuffle,\n",
    "    )\n",
    "\n",
    "    return data_loader"
   ],
   "id": "94c68ca75bfe7531",
   "outputs": [],
   "execution_count": 27
  },
  {
   "metadata": {
    "ExecuteTime": {
     "end_time": "2025-05-24T19:46:59.232171Z",
     "start_time": "2025-05-24T19:46:59.230705Z"
    }
   },
   "cell_type": "code",
   "source": [
    "batch_size = 128\n",
    "train_data_loader = get_data_loader(train_data, batch_size, pad_index, shuffle=True)\n",
    "test_data_loader = get_data_loader(test_data, batch_size, pad_index)"
   ],
   "id": "2b676904f794791e",
   "outputs": [],
   "execution_count": 28
  },
  {
   "metadata": {
    "ExecuteTime": {
     "end_time": "2025-05-24T19:46:59.296015Z",
     "start_time": "2025-05-24T19:46:59.284648Z"
    }
   },
   "cell_type": "code",
   "source": "next(iter(train_data_loader))",
   "id": "1c3ca45fb51a804c",
   "outputs": [
    {
     "data": {
      "text/plain": [
       "{'en_ids': tensor([[  2,   2,   2,  ...,   2,   2,   2],\n",
       "         [  4,   8, 173,  ...,   4, 159,  68],\n",
       "         [  5,  90, 378,  ...,   5, 835, 374],\n",
       "         ...,\n",
       "         [  1,   1,   1,  ...,   1,   1,   1],\n",
       "         [  1,   1,   1,  ...,   1,   1,   1],\n",
       "         [  1,   1,   1,  ...,   1,   1,   1]]),\n",
       " 'it_ids': tensor([[   2,    2,    2,  ...,    2,    2,    2],\n",
       "         [ 318,    6,  438,  ...,  990,  197,  124],\n",
       "         [1623,   30,  437,  ...,  773,   30,  431],\n",
       "         ...,\n",
       "         [   1,    1,    1,  ...,    1,    1,    1],\n",
       "         [   1,    1,    1,  ...,    1,    1,    1],\n",
       "         [   1,    1,    1,  ...,    1,    1,    1]])}"
      ]
     },
     "execution_count": 29,
     "metadata": {},
     "output_type": "execute_result"
    }
   ],
   "execution_count": 29
  },
  {
   "metadata": {
    "ExecuteTime": {
     "end_time": "2025-05-24T19:46:59.359747Z",
     "start_time": "2025-05-24T19:46:59.357408Z"
    }
   },
   "cell_type": "code",
   "source": [
    "class Encoder(nn.Module):\n",
    "    def __init__(self, input_dim, embedding_dim, encoder_hidden_dim, decoder_hidden_dim, dropout=0.3):\n",
    "        super().__init__()\n",
    "        self.embedding = nn.Embedding(input_dim, embedding_dim)\n",
    "        self.rnn = nn.GRU(embedding_dim, encoder_hidden_dim, bidirectional = True)\n",
    "        self.fc = nn.Linear(encoder_hidden_dim * 2, decoder_hidden_dim)\n",
    "        self.dropout = nn.Dropout(dropout)\n",
    "\n",
    "    def forward(self, src): # (src_length, batch size)\n",
    "        embedded = self.dropout(self.embedding(src)) # (src_length, batch_size, embedding_dim)\n",
    "\n",
    "        outputs, hidden = self.rnn(embedded)\n",
    "        # outputs (src_length, batch_size, hidden dim * n_directions)\n",
    "        # hidden (n_layers * n_directions, batch_size, hidden dim)\n",
    "\n",
    "        # hidden is stacked [forward_1, backward_1, forward_2, backward_2, ...]\n",
    "\n",
    "        # outputs are always from the last layer\n",
    "        # hidden [-2, :, : ] is the last of the forwards RNN\n",
    "        # hidden [-1, :, : ] is the last of the backwards RNN\n",
    "\n",
    "        # initial decoder hidden is final hidden state of the forwards and backwards\n",
    "        # encoder RNNs fed through a linear layer\n",
    "\n",
    "        hidden = torch.tanh(self.fc(torch.cat((hidden[-2,:,:], hidden[-1,:,:]), dim=1)))\n",
    "\n",
    "        # outputs (src_length, batch_size, encoder_hidden_dim * 2)\n",
    "        # hidden (batch_size, decoder_hidden_dim)\n",
    "\n",
    "        return outputs, hidden"
   ],
   "id": "8be7128f36960d5e",
   "outputs": [],
   "execution_count": 30
  },
  {
   "metadata": {
    "ExecuteTime": {
     "end_time": "2025-05-24T19:46:59.416678Z",
     "start_time": "2025-05-24T19:46:59.414495Z"
    }
   },
   "cell_type": "code",
   "source": [
    "class Attention(nn.Module):\n",
    "    def __init__(self, encoder_hidden_dim, decoder_hidden_dim):\n",
    "        super().__init__()\n",
    "        self.attn_fc = nn.Linear(\n",
    "            (encoder_hidden_dim * 2) + decoder_hidden_dim,\n",
    "            decoder_hidden_dim\n",
    "        )\n",
    "        self.v_fc = nn.Linear(decoder_hidden_dim, 1, bias=False)\n",
    "\n",
    "    def forward(self, hidden, encoder_outputs):\n",
    "        # hidden (batch_size, decoder_hidden_dim)\n",
    "        # encoder_outputs (src_length, batch_size, encoder_hidden dim * 2)\n",
    "\n",
    "        batch_size = encoder_outputs.shape[1]\n",
    "        src_length = encoder_outputs.shape[0]\n",
    "\n",
    "        # repeat decoder hidden state src_length times\n",
    "        hidden = hidden.unsqueeze(1).repeat(1, src_length, 1) # (batch_size, src_length, decoder_hidden_dim)\n",
    "        encoder_outputs = encoder_outputs.permute(1, 0, 2) # (batch_size, src_length, encoder_hidden_dim * 2)\n",
    "\n",
    "        energy = torch.tanh(self.attn_fc(torch.cat((hidden, encoder_outputs), dim=2)))\n",
    "        # (batch_size, src_length, decoder_hidden_dim)\n",
    "\n",
    "        attention = self.v_fc(energy).squeeze(2) # batch_size, src_length\n",
    "\n",
    "        return torch.softmax(attention, dim=1)"
   ],
   "id": "6384f24c1f27f780",
   "outputs": [],
   "execution_count": 31
  },
  {
   "metadata": {
    "ExecuteTime": {
     "end_time": "2025-05-24T19:46:59.451954Z",
     "start_time": "2025-05-24T19:46:59.448902Z"
    }
   },
   "cell_type": "code",
   "source": [
    "class Decoder(nn.Module):\n",
    "    def __init__(\n",
    "        self,\n",
    "        output_dim,\n",
    "        embedding_dim,\n",
    "        encoder_hidden_dim,\n",
    "        decoder_hidden_dim,\n",
    "        attention,\n",
    "        dropout=0.3\n",
    "    ):\n",
    "        super().__init__()\n",
    "        self.output_dim = output_dim\n",
    "        self.attention = attention\n",
    "        self.embedding = nn.Embedding(output_dim, embedding_dim)\n",
    "        self.rnn = nn.GRU((encoder_hidden_dim * 2) + embedding_dim, decoder_hidden_dim)\n",
    "        self.fc_out = nn.Linear(\n",
    "            (encoder_hidden_dim * 2) + decoder_hidden_dim + embedding_dim,\n",
    "            output_dim\n",
    "        )\n",
    "        self.dropout = nn.Dropout(dropout)\n",
    "\n",
    "    def forward(self, input, hidden, encoder_outputs):\n",
    "        # input = (batch_size)\n",
    "        # hidden = batch_size, decoder hidden dim]\n",
    "        # encoder_outputs = [src length, batch size, encoder hidden dim * 2]\n",
    "        input = input.unsqueeze(0)\n",
    "        # input = [1, batch size]\n",
    "        embedded = self.dropout(self.embedding(input))\n",
    "        #embedded = [1, batch size, embedding dim]\n",
    "        a = self.attention(hidden, encoder_outputs)\n",
    "        # a = [batch size, src length]\n",
    "        a = a.unsqueeze(1)\n",
    "        # a = [batch size, 1, src length]\n",
    "        encoder_outputs = encoder_outputs.permute(1, 0, 2)\n",
    "        # encoder_outputs = [batch size, src length, encoder hidden dim * 2]\n",
    "        weighted = torch.bmm(a, encoder_outputs) # batch matrix-matrix product\n",
    "        # weighted = [batch size, 1, encoder hidden dim * 2]\n",
    "        weighted = weighted.permute(1, 0, 2)\n",
    "        # weighted = [1, batch size, encoder hidden dim * 2]\n",
    "        rnn_input = torch.cat((embedded, weighted), dim = 2)\n",
    "        # rnn_input = [1, batch size, (encoder hidden dim * 2) + embedding dim]\n",
    "        output, hidden = self.rnn(rnn_input, hidden.unsqueeze(0))\n",
    "        # output = [seq length, batch size, decoder hid dim * n directions]\n",
    "        # hidden = [n layers * n directions, batch size, decoder hid dim]\n",
    "        # seq len, n layers and n directions will always be 1 in this decoder, therefore:\n",
    "        # output = [1, batch size, decoder hidden dim]\n",
    "        # hidden = [1, batch size, decoder hidden dim]\n",
    "        # this also means that output == hidden\n",
    "        assert (output == hidden).all()\n",
    "        embedded = embedded.squeeze(0)\n",
    "        output = output.squeeze(0)\n",
    "        weighted = weighted.squeeze(0)\n",
    "        prediction = self.fc_out(torch.cat((output, weighted, embedded), dim=1))\n",
    "        #prediction = [batch size, output dim]\n",
    "        return prediction, hidden.squeeze(0), a.squeeze(1)"
   ],
   "id": "5d66f4c932ab3ad9",
   "outputs": [],
   "execution_count": 32
  },
  {
   "metadata": {
    "ExecuteTime": {
     "end_time": "2025-05-24T19:46:59.555824Z",
     "start_time": "2025-05-24T19:46:59.553373Z"
    }
   },
   "cell_type": "code",
   "source": [
    "class Seq2Seq(nn.Module):\n",
    "    def __init__(self, encoder, decoder, device):\n",
    "        super().__init__()\n",
    "        self.encoder = encoder\n",
    "        self.decoder = decoder\n",
    "        self.device = device\n",
    "\n",
    "    def forward(self, src, trg, teacher_forcing_ratio):\n",
    "        # src = [src length, batch size]\n",
    "        # trg = [trg length, batch size]\n",
    "        # teacher_forcing_ratio is probability to use teacher forcing\n",
    "        # e.g. if teacher_forcing_ratio is 0.75 we use teacher forcing 75% of the time\n",
    "        batch_size = src.shape[1]\n",
    "        trg_length = trg.shape[0]\n",
    "        trg_vocab_size = self.decoder.output_dim\n",
    "        #tensor to store decoder outputs\n",
    "        outputs = torch.zeros(trg_length, batch_size, trg_vocab_size).to(self.device)\n",
    "        # encoder_outputs is all hidden states of the input sequence, back and forwards\n",
    "        # hidden is the final forward and backward hidden states, passed through a linear layer\n",
    "        encoder_outputs, hidden = self.encoder(src)\n",
    "        # outputs = [src length, batch size, encoder hidden dim * 2]\n",
    "        # hidden = [batch size, decoder hidden dim]\n",
    "        # first input to the decoder is the <sos> tokens\n",
    "        input = trg[0,:]\n",
    "        for t in range(1, trg_length):\n",
    "            # insert input token embedding, previous hidden state and all encoder hidden states\n",
    "            # receive output tensor (predictions) and new hidden state\n",
    "            output, hidden, _ = self.decoder(input, hidden, encoder_outputs)\n",
    "            # output = [batch size, output dim]\n",
    "            # hidden = [n layers, batch size, decoder hidden dim]\n",
    "            #place predictions in a tensor holding predictions for each token\n",
    "            outputs[t] = output\n",
    "            #decide if we are going to use teacher forcing or not\n",
    "            teacher_force = random.random() < teacher_forcing_ratio\n",
    "            #get the highest predicted token from our predictions\n",
    "            top1 = output.argmax(1)\n",
    "            # if teacher forcing, use actual next token as next input\n",
    "            # if not, use predicted token\n",
    "            input = trg[t] if teacher_force else top1\n",
    "            # input = [batch size]\n",
    "        return outputs"
   ],
   "id": "cf0a754e0b23fc1f",
   "outputs": [],
   "execution_count": 33
  },
  {
   "metadata": {
    "ExecuteTime": {
     "end_time": "2025-05-24T19:46:59.575066Z",
     "start_time": "2025-05-24T19:46:59.573404Z"
    }
   },
   "cell_type": "code",
   "source": [
    "input_dim = len(it_vocab)\n",
    "output_dim = len(en_vocab)\n",
    "encoder_embedding_dim = 256\n",
    "decoder_embedding_dim = 256\n",
    "encoder_hidden_dim = 512\n",
    "decoder_hidden_dim = 512\n",
    "if torch.cuda.is_available():\n",
    "    device = torch.device(\"cuda\")\n",
    "elif torch.backends.mps.is_available() and torch.backends.mps.is_built():\n",
    "    device = torch.device(\"mps\")\n",
    "else:\n",
    "    device = torch.device(\"cpu\")\n",
    "model_dir = './homeworks/hw-5/saved_models'"
   ],
   "id": "5e5a15bc4afaea14",
   "outputs": [],
   "execution_count": 34
  },
  {
   "metadata": {
    "ExecuteTime": {
     "end_time": "2025-05-24T19:46:59.851074Z",
     "start_time": "2025-05-24T19:46:59.593861Z"
    }
   },
   "cell_type": "code",
   "source": [
    "attention = Attention(encoder_hidden_dim, decoder_hidden_dim)\n",
    "\n",
    "encoder = Encoder(\n",
    "    input_dim,\n",
    "    encoder_embedding_dim,\n",
    "    encoder_hidden_dim,\n",
    "    decoder_hidden_dim\n",
    ")\n",
    "\n",
    "decoder = Decoder(\n",
    "    output_dim,\n",
    "    decoder_embedding_dim,\n",
    "    encoder_hidden_dim,\n",
    "    decoder_hidden_dim,\n",
    "    attention,\n",
    ")\n",
    "\n",
    "\n",
    "model = Seq2Seq(encoder, decoder, device).to(device)\n",
    "\n",
    "model"
   ],
   "id": "d8f372af8c5832dc",
   "outputs": [
    {
     "data": {
      "text/plain": [
       "Seq2Seq(\n",
       "  (encoder): Encoder(\n",
       "    (embedding): Embedding(18582, 256)\n",
       "    (rnn): GRU(256, 512, bidirectional=True)\n",
       "    (fc): Linear(in_features=1024, out_features=512, bias=True)\n",
       "    (dropout): Dropout(p=0.3, inplace=False)\n",
       "  )\n",
       "  (decoder): Decoder(\n",
       "    (attention): Attention(\n",
       "      (attn_fc): Linear(in_features=1536, out_features=512, bias=True)\n",
       "      (v_fc): Linear(in_features=512, out_features=1, bias=False)\n",
       "    )\n",
       "    (embedding): Embedding(13153, 256)\n",
       "    (rnn): GRU(1280, 512)\n",
       "    (fc_out): Linear(in_features=1792, out_features=13153, bias=True)\n",
       "    (dropout): Dropout(p=0.3, inplace=False)\n",
       "  )\n",
       ")"
      ]
     },
     "execution_count": 35,
     "metadata": {},
     "output_type": "execute_result"
    }
   ],
   "execution_count": 35
  },
  {
   "metadata": {
    "ExecuteTime": {
     "end_time": "2025-05-24T19:46:59.947894Z",
     "start_time": "2025-05-24T19:46:59.944792Z"
    }
   },
   "cell_type": "code",
   "source": [
    "def init_weights(m):\n",
    "    \"\"\"\n",
    "    Initiates model weights from the normal distribution.\n",
    "    Sets bias to 0.\n",
    "    \"\"\"\n",
    "    for name, param in m.named_parameters():\n",
    "        if \"weight\" in name:\n",
    "            nn.init.normal_(param.data, mean=0, std=0.01)\n",
    "        else:\n",
    "            nn.init.constant_(param.data, 0)\n",
    "\n",
    "model.apply(init_weights)"
   ],
   "id": "f2a2bb0aa9dab836",
   "outputs": [
    {
     "data": {
      "text/plain": [
       "Seq2Seq(\n",
       "  (encoder): Encoder(\n",
       "    (embedding): Embedding(18582, 256)\n",
       "    (rnn): GRU(256, 512, bidirectional=True)\n",
       "    (fc): Linear(in_features=1024, out_features=512, bias=True)\n",
       "    (dropout): Dropout(p=0.3, inplace=False)\n",
       "  )\n",
       "  (decoder): Decoder(\n",
       "    (attention): Attention(\n",
       "      (attn_fc): Linear(in_features=1536, out_features=512, bias=True)\n",
       "      (v_fc): Linear(in_features=512, out_features=1, bias=False)\n",
       "    )\n",
       "    (embedding): Embedding(13153, 256)\n",
       "    (rnn): GRU(1280, 512)\n",
       "    (fc_out): Linear(in_features=1792, out_features=13153, bias=True)\n",
       "    (dropout): Dropout(p=0.3, inplace=False)\n",
       "  )\n",
       ")"
      ]
     },
     "execution_count": 36,
     "metadata": {},
     "output_type": "execute_result"
    }
   ],
   "execution_count": 36
  },
  {
   "metadata": {
    "ExecuteTime": {
     "end_time": "2025-05-24T19:47:00.078263Z",
     "start_time": "2025-05-24T19:47:00.076557Z"
    }
   },
   "cell_type": "code",
   "source": [
    "optimizer = optim.Adam(model.parameters())\n",
    "criterion = nn.CrossEntropyLoss(ignore_index=pad_index)"
   ],
   "id": "df6c2a5c1855baa7",
   "outputs": [],
   "execution_count": 37
  },
  {
   "metadata": {
    "ExecuteTime": {
     "end_time": "2025-05-24T19:47:00.107989Z",
     "start_time": "2025-05-24T19:47:00.105135Z"
    }
   },
   "cell_type": "code",
   "source": [
    "def train_fn(model, data_loader, optimizer, criterion, clip, teacher_forcing_ratio, device):\n",
    "    model.train()\n",
    "    epoch_loss = 0\n",
    "    for i, batch in tqdm(enumerate(data_loader)):\n",
    "        src = batch[\"it_ids\"].to(device)\n",
    "        trg = batch[\"en_ids\"].to(device)\n",
    "        # src = [src length, batch size]\n",
    "        # trg = [trg length, batch size]\n",
    "        optimizer.zero_grad()\n",
    "        output = model(src, trg, teacher_forcing_ratio)\n",
    "        # output = [trg length, batch size, trg vocab size]\n",
    "        output_dim = output.shape[-1]\n",
    "        output = output[1:].view(-1, output_dim)\n",
    "        # output = [(trg length - 1) * batch size, trg vocab size]\n",
    "        trg = trg[1:].view(-1)\n",
    "        # trg = [(trg length - 1) * batch size]\n",
    "        loss = criterion(output, trg)\n",
    "        loss.backward()\n",
    "        torch.nn.utils.clip_grad_norm_(model.parameters(), clip)\n",
    "        optimizer.step()\n",
    "        epoch_loss += loss.item()\n",
    "    return epoch_loss / len(data_loader)\n",
    "\n",
    "def evaluate_fn(model, data_loader, criterion, device):\n",
    "    model.eval()\n",
    "    epoch_loss = 0\n",
    "    with torch.no_grad():\n",
    "        for i, batch in enumerate(data_loader):\n",
    "            src = batch[\"it_ids\"].to(device)\n",
    "            trg = batch[\"en_ids\"].to(device)\n",
    "            # src = [src length, batch size]\n",
    "            # trg = [trg length, batch size]\n",
    "            output = model(src, trg, 0) #turn off teacher forcing\n",
    "            # output = [trg length, batch size, trg vocab size]\n",
    "            output_dim = output.shape[-1]\n",
    "            output = output[1:].view(-1, output_dim)\n",
    "            # output = [(trg length - 1) * batch size, trg vocab size]\n",
    "            trg = trg[1:].view(-1)\n",
    "            # trg = [(trg length - 1) * batch size]\n",
    "            loss = criterion(output, trg)\n",
    "            epoch_loss += loss.item()\n",
    "    return epoch_loss / len(data_loader)"
   ],
   "id": "aba68e6fef00de30",
   "outputs": [],
   "execution_count": 38
  },
  {
   "metadata": {
    "ExecuteTime": {
     "end_time": "2025-05-24T20:18:24.678152Z",
     "start_time": "2025-05-24T19:47:00.187388Z"
    }
   },
   "cell_type": "code",
   "source": [
    "n_epochs = 10\n",
    "clip = 1.0 # gradient clipping\n",
    "teacher_forcing_ratio = 0.5\n",
    "\n",
    "best_test_loss = float(\"inf\")\n",
    "\n",
    "model_path = os.path.join(model_dir, 'en_it.pt')\n",
    "train_losses = []\n",
    "test_losses = []\n",
    "\n",
    "if os.path.exists(model_path):\n",
    "    print(\"✅ Model already exists. Skipping training.\")\n",
    "    model.load_state_dict(torch.load(model_path, map_location=device))\n",
    "    model.eval()\n",
    "else:\n",
    "    print(\"🚀 Starting training from scratch.\")\n",
    "\n",
    "    if torch.cuda.is_available():\n",
    "        torch.cuda.empty_cache()\n",
    "        torch.cuda.ipc_collect()\n",
    "\n",
    "    for epoch in tqdm(range(n_epochs)):\n",
    "\n",
    "        train_loss = train_fn(\n",
    "            model,\n",
    "            train_data_loader,\n",
    "            optimizer,\n",
    "            criterion,\n",
    "            clip,\n",
    "            teacher_forcing_ratio,\n",
    "            device,\n",
    "        )\n",
    "\n",
    "        test_loss = evaluate_fn(\n",
    "            model,\n",
    "            test_data_loader,\n",
    "            criterion,\n",
    "            device,\n",
    "        )\n",
    "\n",
    "        train_losses.append(train_loss)\n",
    "        test_losses.append(test_loss)\n",
    "\n",
    "        if test_loss < best_test_loss:\n",
    "            best_test_loss = test_loss\n",
    "            torch.save(model.state_dict(), model_path)\n",
    "\n",
    "        print(f\"\\tTrain Loss: {train_loss:7.3f}\")\n",
    "        print(f\"\\tTest Loss: {test_loss:7.3f}\")\n",
    "\n",
    "    plt.figure(figsize=(8, 5))\n",
    "    plt.plot(train_losses, label=\"Train Loss\")\n",
    "    plt.plot(test_losses, label=\"Test Loss\")\n",
    "    plt.xlabel(\"Epoch\")\n",
    "    plt.ylabel(\"Loss\")\n",
    "    plt.title(\"Зміна функції втрат під час тренування\")\n",
    "    plt.legend()\n",
    "    plt.grid(True)\n",
    "    plt.tight_layout()\n",
    "    plt.show()"
   ],
   "id": "aab145058cd19e95",
   "outputs": [
    {
     "name": "stdout",
     "output_type": "stream",
     "text": [
      "🚀 Starting training from scratch.\n"
     ]
    },
    {
     "data": {
      "text/plain": [
       "  0%|          | 0/10 [00:00<?, ?it/s]"
      ],
      "application/vnd.jupyter.widget-view+json": {
       "version_major": 2,
       "version_minor": 0,
       "model_id": "318c3e0ca41244cfbda55e1b816c39ce"
      }
     },
     "metadata": {},
     "output_type": "display_data"
    },
    {
     "data": {
      "text/plain": [
       "0it [00:00, ?it/s]"
      ],
      "application/vnd.jupyter.widget-view+json": {
       "version_major": 2,
       "version_minor": 0,
       "model_id": "f1178d5df05841639145c87c11183b60"
      }
     },
     "metadata": {},
     "output_type": "display_data"
    },
    {
     "name": "stdout",
     "output_type": "stream",
     "text": [
      "\tTrain Loss:   6.090\n",
      "\tTest Loss:   6.067\n"
     ]
    },
    {
     "data": {
      "text/plain": [
       "0it [00:00, ?it/s]"
      ],
      "application/vnd.jupyter.widget-view+json": {
       "version_major": 2,
       "version_minor": 0,
       "model_id": "a8565f382d6644eab1c1a104c70a326b"
      }
     },
     "metadata": {},
     "output_type": "display_data"
    },
    {
     "name": "stdout",
     "output_type": "stream",
     "text": [
      "\tTrain Loss:   5.422\n",
      "\tTest Loss:   5.840\n"
     ]
    },
    {
     "data": {
      "text/plain": [
       "0it [00:00, ?it/s]"
      ],
      "application/vnd.jupyter.widget-view+json": {
       "version_major": 2,
       "version_minor": 0,
       "model_id": "069caf9abc3a4e9c9506bd040b697384"
      }
     },
     "metadata": {},
     "output_type": "display_data"
    },
    {
     "name": "stdout",
     "output_type": "stream",
     "text": [
      "\tTrain Loss:   5.022\n",
      "\tTest Loss:   5.593\n"
     ]
    },
    {
     "data": {
      "text/plain": [
       "0it [00:00, ?it/s]"
      ],
      "application/vnd.jupyter.widget-view+json": {
       "version_major": 2,
       "version_minor": 0,
       "model_id": "632ee23b5bba4d64a4f92d5fa47970cb"
      }
     },
     "metadata": {},
     "output_type": "display_data"
    },
    {
     "name": "stdout",
     "output_type": "stream",
     "text": [
      "\tTrain Loss:   4.574\n",
      "\tTest Loss:   5.401\n"
     ]
    },
    {
     "data": {
      "text/plain": [
       "0it [00:00, ?it/s]"
      ],
      "application/vnd.jupyter.widget-view+json": {
       "version_major": 2,
       "version_minor": 0,
       "model_id": "1883430a06334e169753c55307fae268"
      }
     },
     "metadata": {},
     "output_type": "display_data"
    },
    {
     "name": "stdout",
     "output_type": "stream",
     "text": [
      "\tTrain Loss:   4.136\n",
      "\tTest Loss:   5.361\n"
     ]
    },
    {
     "data": {
      "text/plain": [
       "0it [00:00, ?it/s]"
      ],
      "application/vnd.jupyter.widget-view+json": {
       "version_major": 2,
       "version_minor": 0,
       "model_id": "66936593cc1b4c93893587f2e28688f3"
      }
     },
     "metadata": {},
     "output_type": "display_data"
    },
    {
     "name": "stdout",
     "output_type": "stream",
     "text": [
      "\tTrain Loss:   3.782\n",
      "\tTest Loss:   5.243\n"
     ]
    },
    {
     "data": {
      "text/plain": [
       "0it [00:00, ?it/s]"
      ],
      "application/vnd.jupyter.widget-view+json": {
       "version_major": 2,
       "version_minor": 0,
       "model_id": "062957d51a7b46c1b66e45e1699a0b78"
      }
     },
     "metadata": {},
     "output_type": "display_data"
    },
    {
     "name": "stdout",
     "output_type": "stream",
     "text": [
      "\tTrain Loss:   3.464\n",
      "\tTest Loss:   5.223\n"
     ]
    },
    {
     "data": {
      "text/plain": [
       "0it [00:00, ?it/s]"
      ],
      "application/vnd.jupyter.widget-view+json": {
       "version_major": 2,
       "version_minor": 0,
       "model_id": "710ab07511424dc18cccf003065a43e0"
      }
     },
     "metadata": {},
     "output_type": "display_data"
    },
    {
     "name": "stdout",
     "output_type": "stream",
     "text": [
      "\tTrain Loss:   3.191\n",
      "\tTest Loss:   5.222\n"
     ]
    },
    {
     "data": {
      "text/plain": [
       "0it [00:00, ?it/s]"
      ],
      "application/vnd.jupyter.widget-view+json": {
       "version_major": 2,
       "version_minor": 0,
       "model_id": "3213fa31af8e4f4cbb1df6a520043863"
      }
     },
     "metadata": {},
     "output_type": "display_data"
    },
    {
     "name": "stdout",
     "output_type": "stream",
     "text": [
      "\tTrain Loss:   2.991\n",
      "\tTest Loss:   5.265\n"
     ]
    },
    {
     "data": {
      "text/plain": [
       "0it [00:00, ?it/s]"
      ],
      "application/vnd.jupyter.widget-view+json": {
       "version_major": 2,
       "version_minor": 0,
       "model_id": "e3f7e969d3554f0a8278ad1b7a08639b"
      }
     },
     "metadata": {},
     "output_type": "display_data"
    },
    {
     "name": "stdout",
     "output_type": "stream",
     "text": [
      "\tTrain Loss:   2.801\n",
      "\tTest Loss:   5.352\n"
     ]
    },
    {
     "data": {
      "text/plain": [
       "<Figure size 800x500 with 1 Axes>"
      ],
      "image/png": "[encoded data removed]"
     },
     "metadata": {},
     "output_type": "display_data"
    }
   ],
   "execution_count": 39
  },
  {
   "metadata": {
    "ExecuteTime": {
     "end_time": "2025-05-24T20:18:33.018450Z",
     "start_time": "2025-05-24T20:18:25.098614Z"
    }
   },
   "cell_type": "code",
   "source": [
    "model.load_state_dict(torch.load(os.path.join(model_dir, 'en_it.pt'), map_location=device))\n",
    "\n",
    "test_loss = evaluate_fn(model, test_data_loader, criterion, device)\n",
    "\n",
    "print(f\"Test Loss: {test_loss:.3f}\")"
   ],
   "id": "75806fce5111238b",
   "outputs": [
    {
     "name": "stdout",
     "output_type": "stream",
     "text": [
      "Test Loss: 5.222\n"
     ]
    }
   ],
   "execution_count": 40
  },
  {
   "metadata": {
    "ExecuteTime": {
     "end_time": "2025-05-24T20:18:33.251129Z",
     "start_time": "2025-05-24T20:18:33.247576Z"
    }
   },
   "cell_type": "code",
   "source": [
    "def translate_sentence(\n",
    "    sentence,\n",
    "    model,\n",
    "    en_nlp,\n",
    "    it_nlp,\n",
    "    en_vocab,\n",
    "    it_vocab,\n",
    "    lower,\n",
    "    sos_token,\n",
    "    eos_token,\n",
    "    device,\n",
    "    max_output_length=25,\n",
    "):\n",
    "    model.eval()\n",
    "    with torch.no_grad():\n",
    "        if isinstance(sentence, str):\n",
    "            en_tokens = [token.text for token in en_nlp.tokenizer(sentence)]\n",
    "        else:\n",
    "            en_tokens = [token for token in sentence]\n",
    "        if lower:\n",
    "            en_tokens = [token.lower() for token in en_tokens]\n",
    "        en_tokens = [sos_token] + en_tokens + [eos_token]\n",
    "        ids = en_vocab.lookup_indices(en_tokens)\n",
    "        tensor = torch.LongTensor(ids).unsqueeze(-1).to(device)\n",
    "        encoder_outputs, hidden = model.encoder(tensor)\n",
    "\n",
    "        inputs = it_vocab.lookup_indices([sos_token])\n",
    "        attentions = torch.zeros(max_output_length, 1, len(ids))\n",
    "        for i in range(max_output_length):\n",
    "            inputs_tensor = torch.LongTensor([inputs[-1]]).to(device)\n",
    "            output, hidden, attention = model.decoder(inputs_tensor, hidden, encoder_outputs)\n",
    "            attentions[i] = attention\n",
    "            predicted_token = output.argmax(-1).item()\n",
    "            inputs.append(predicted_token)\n",
    "            if predicted_token == it_vocab[eos_token]:\n",
    "                break\n",
    "        it_tokens = it_vocab.lookup_tokens(inputs)\n",
    "    return it_tokens, en_tokens, attentions[:len(it_tokens)-1]"
   ],
   "id": "e42774e6366bdbe6",
   "outputs": [],
   "execution_count": 41
  },
  {
   "metadata": {
    "ExecuteTime": {
     "end_time": "2025-05-24T20:18:33.307348Z",
     "start_time": "2025-05-24T20:18:33.289931Z"
    }
   },
   "cell_type": "code",
   "source": [
    "def plot_attention(sentence, translation, attention):\n",
    "    fig, ax = plt.subplots(figsize=(5,5))\n",
    "    attention = attention.squeeze(1).numpy()\n",
    "    cax = ax.matshow(attention, cmap=\"bone\")\n",
    "    ax.set_xticks(ticks=np.arange(len(sentence)), labels=sentence, rotation=90, size=15)\n",
    "    translation = translation[1:]\n",
    "    ax.set_yticks(ticks=np.arange(len(translation)), labels=translation, size=15)\n",
    "    plt.show()\n",
    "    plt.close()"
   ],
   "id": "6d9cde5fd9cf88b9",
   "outputs": [],
   "execution_count": 42
  },
  {
   "metadata": {
    "ExecuteTime": {
     "end_time": "2025-05-24T20:18:33.333114Z",
     "start_time": "2025-05-24T20:18:33.330131Z"
    }
   },
   "cell_type": "code",
   "source": "test_data[0]",
   "id": "eb8c3884767fbb1c",
   "outputs": [
    {
     "data": {
      "text/plain": [
       "{'en_ids': tensor([   2,  319,  693,   43,  344,    5,  608,   73,    0,    0,    5, 1774,\n",
       "          102,    5,  255,   11, 4136,  784, 1865,    5,   40,    7,   21, 1686,\n",
       "           19,   30,  156,    5,    7, 7046,  205,   11,  960,  332,   16,    3]),\n",
       " 'it_ids': tensor([    2,   886,     0,    30,    77,     0,     0,    30,   418,    56,\n",
       "          5081,    30,   310,   228,  3478,    28,   913, 10810,    30,    11,\n",
       "           530,  2202,   124,   900,   167,    30,  1059,  5627,   702,  5528,\n",
       "           492,   356,  1299,    15,     3]),\n",
       " 'translation': {'en': 'Great men of State, such as Yitzhak Rabin, understood this, but the Israeli peace forces, who are a credit to that country, are marginalised by the current regime.',\n",
       "  'it': \"Grandi statisti, come Yitzhak Rabin, lo hanno compreso, ma le forze di pace israeliane, che fanno onore a quel paese, vengono messe ai margini dall'attuale governo.\"},\n",
       " 'en_tokens': ['<sos>',\n",
       "  'great',\n",
       "  'men',\n",
       "  'of',\n",
       "  'state',\n",
       "  ',',\n",
       "  'such',\n",
       "  'as',\n",
       "  'yitzhak',\n",
       "  'rabin',\n",
       "  ',',\n",
       "  'understood',\n",
       "  'this',\n",
       "  ',',\n",
       "  'but',\n",
       "  'the',\n",
       "  'israeli',\n",
       "  'peace',\n",
       "  'forces',\n",
       "  ',',\n",
       "  'who',\n",
       "  'are',\n",
       "  'a',\n",
       "  'credit',\n",
       "  'to',\n",
       "  'that',\n",
       "  'country',\n",
       "  ',',\n",
       "  'are',\n",
       "  'marginalised',\n",
       "  'by',\n",
       "  'the',\n",
       "  'current',\n",
       "  'regime',\n",
       "  '.',\n",
       "  '<eos>'],\n",
       " 'it_tokens': ['<sos>',\n",
       "  'grandi',\n",
       "  'statisti',\n",
       "  ',',\n",
       "  'come',\n",
       "  'yitzhak',\n",
       "  'rabin',\n",
       "  ',',\n",
       "  'lo',\n",
       "  'hanno',\n",
       "  'compreso',\n",
       "  ',',\n",
       "  'ma',\n",
       "  'le',\n",
       "  'forze',\n",
       "  'di',\n",
       "  'pace',\n",
       "  'israeliane',\n",
       "  ',',\n",
       "  'che',\n",
       "  'fanno',\n",
       "  'onore',\n",
       "  'a',\n",
       "  'quel',\n",
       "  'paese',\n",
       "  ',',\n",
       "  'vengono',\n",
       "  'messe',\n",
       "  'ai',\n",
       "  'margini',\n",
       "  \"dall'\",\n",
       "  'attuale',\n",
       "  'governo',\n",
       "  '.',\n",
       "  '<eos>']}"
      ]
     },
     "execution_count": 43,
     "metadata": {},
     "output_type": "execute_result"
    }
   ],
   "execution_count": 43
  },
  {
   "metadata": {
    "ExecuteTime": {
     "end_time": "2025-05-24T20:18:33.591722Z",
     "start_time": "2025-05-24T20:18:33.588532Z"
    }
   },
   "cell_type": "code",
   "source": [
    "sentence = test_data[100][\"translation\"][\"en\"]\n",
    "expected_translation = test_data[100][\"translation\"][\"it\"]\n",
    "\n",
    "sentence, expected_translation"
   ],
   "id": "83030663bd7ef3b4",
   "outputs": [
    {
     "data": {
      "text/plain": [
       "('We face increased polarisations that come up against a backdrop of growing tensions over a series of political issues and of growing cultural stereotypes.',\n",
       " 'Ci confrontiamo con una crescente polarizzazione che nasce in un contesto di crescenti tensioni su questioni politiche e stereotipi culturali sempre più presenti.')"
      ]
     },
     "execution_count": 44,
     "metadata": {},
     "output_type": "execute_result"
    }
   ],
   "execution_count": 44
  },
  {
   "metadata": {
    "ExecuteTime": {
     "end_time": "2025-05-24T20:18:33.802283Z",
     "start_time": "2025-05-24T20:18:33.799964Z"
    }
   },
   "cell_type": "code",
   "source": [
    "import re\n",
    "\n",
    "def tokens_to_sentence(tokens, sos_token=\"<sos>\", eos_token=\"<eos>\", unk_token=\"<unk>\"):\n",
    "    # Видаляємо sos/eos і замінюємо unk на пробіл\n",
    "    cleaned = []\n",
    "    for t in tokens:\n",
    "        if t in {sos_token, eos_token}:\n",
    "            continue\n",
    "        elif t == unk_token:\n",
    "            cleaned.append(\" \")\n",
    "        else:\n",
    "            cleaned.append(t)\n",
    "\n",
    "    sentence = ' '.join(cleaned)\n",
    "    sentence = re.sub(r'\\s+([?.!,;:])', r'\\1', sentence)  # прибирає пробіли перед пунктуацією\n",
    "    sentence = re.sub(r'\\s{2,}', ' ', sentence)           # замінює подвійні пробіли на один\n",
    "    return sentence.strip()"
   ],
   "id": "85a3e1ec8fbddaa3",
   "outputs": [],
   "execution_count": 45
  },
  {
   "metadata": {
    "ExecuteTime": {
     "end_time": "2025-05-24T20:18:33.838834Z",
     "start_time": "2025-05-24T20:18:33.825118Z"
    }
   },
   "cell_type": "code",
   "source": [
    "translation, sentence_tokens, attention = translate_sentence(\n",
    "    sentence,\n",
    "    model,\n",
    "    en_nlp,\n",
    "    it_nlp,\n",
    "    en_vocab,\n",
    "    it_vocab,\n",
    "    lower,\n",
    "    sos_token,\n",
    "    eos_token,\n",
    "    device,\n",
    ")\n",
    "\n",
    "print(tokens_to_sentence(translation, sos_token, eos_token))\n",
    "print(tokens_to_sentence(sentence_tokens, sos_token, eos_token))"
   ],
   "id": "f1b8aab9eb1bcbf5",
   "outputs": [
    {
     "name": "stdout",
     "output_type": "stream",
     "text": [
      "la convenzione più forte sono sono nonché difendiamo che sono creare non che che difendiamo che che compiacenza sud europa che compiacenza\n",
      "we face increased polarisations that come up against a backdrop of growing tensions over a series of political issues and of growing cultural stereotypes.\n"
     ]
    }
   ],
   "execution_count": 46
  },
  {
   "metadata": {
    "ExecuteTime": {
     "end_time": "2025-05-24T20:18:34.148896Z",
     "start_time": "2025-05-24T20:18:34.058729Z"
    }
   },
   "cell_type": "code",
   "source": "plot_attention(sentence_tokens, translation, attention)",
   "id": "e61285473be002b5",
   "outputs": [
    {
     "data": {
      "text/plain": [
       "<Figure size 500x500 with 1 Axes>"
      ],
      "image/png": "[encoded data removed]"
     },
     "metadata": {},
     "output_type": "display_data"
    }
   ],
   "execution_count": 47
  },
  {
   "metadata": {},
   "cell_type": "markdown",
   "source": [
    "### Аналіз результатів моделі Seq2Seq з увагою\n",
    "\n",
    "##### 1. Графік функції втрат\n",
    "\n",
    "- `Train Loss` **стабільно знижується** з кожною епохою — це свідчить про ефективне навчання.\n",
    "- `Test Loss` спочатку знижується, потім **вирівнюється**, а наприкінці **незначно зростає**.\n",
    "- Така поведінка вказує на **початок перенавчання** (overfitting) після ~7 епох.\n",
    "\n",
    "---\n",
    "\n",
    "##### 2. Експерименти з параметрами\n",
    "\n",
    "- Під час тренування я пробував збільшити `teacher_forcing_ratio` до **0.75**, однак це **значно погіршило модель**, яка почала швидко перенавчатись і на тестових даних показувала **гірші результати**.\n",
    "- Найбільш вдалим рішенням було додати **Dropout** до **енкодера** і **декодера** — це помітно покращило узагальнюючу здатність моделі.\n",
    "\n",
    "---\n",
    "\n",
    "##### 3. Візуалізація механізму уваги\n",
    "\n",
    "- **Діагональний слід** уваги свідчить про **послідовне вирівнювання** слів у перекладі — це типово для простих речень із однаковим порядком.\n",
    "- Декілька `<unk>` токенів у виході свідчать про **обмеження словника** і **відсутність потрібних слів у `it_vocab`**. Оскільки ми використовували лише 3% даних для тренування\n",
    "- Слова, як-от `difendiamo`, `compiacenza`, отримують чіткий фокус уваги — модель явно навчається відповідним звʼязкам.\n",
    "\n",
    "##### Висновок:\n",
    "\n",
    "- Механізм уваги працює коректно й загалом вирівнює слова адекватно.\n",
    "- Для покращення варто:\n",
    "  - Запустити тренування на більшому датасеті щоб збільшити словник\n",
    "  - Перевірити, можливо знизити  teacher_forcing_ratio до 30% щоб не допускати раннього перенавчання\n",
    "\n",
    "- Навіть на **невеликому обсязі даних** модель демонструє хороші результати.\n",
    "Якщо запустити тренування на **повному датасеті**, є підстави очікувати **значно кращу якість перекладу**.\n",
    "\n",
    "---"
   ],
   "id": "c2701a59933635db"
  },
  {
   "metadata": {},
   "cell_type": "code",
   "outputs": [],
   "execution_count": null,
   "source": "",
   "id": "45ff96d4703480b"
  }
 ],
 "metadata": {
  "kernelspec": {
   "display_name": "Python 3",
   "language": "python",
   "name": "python3"
  },
  "language_info": {
   "codemirror_mode": {
    "name": "ipython",
    "version": 2
   },
   "file_extension": ".py",
   "mimetype": "text/x-python",
   "name": "python",
   "nbconvert_exporter": "python",
   "pygments_lexer": "ipython2",
   "version": "2.7.6"
  }
 },
 "nbformat": 4,
 "nbformat_minor": 5
}
